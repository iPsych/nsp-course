{
 "cells": [
  {
   "cell_type": "code",
   "execution_count": 165,
   "metadata": {},
   "outputs": [],
   "source": [
    "# !pip install mne"
   ]
  },
  {
   "cell_type": "code",
   "execution_count": 166,
   "metadata": {},
   "outputs": [],
   "source": [
    "from scipy.io import loadmat\n",
    "import numpy as np\n",
    "import matplotlib.pyplot as plt\n",
    "from mpl_toolkits.mplot3d import Axes3D\n",
    "import plotly.graph_objects as go\n",
    "from mne import read_evokeds\n",
    "import mne\n",
    "from ipywidgets import interactive"
   ]
  },
  {
   "cell_type": "code",
   "execution_count": 117,
   "metadata": {},
   "outputs": [],
   "source": [
    "eeg_data = loadmat('data/sampleEEGdata.mat')"
   ]
  },
  {
   "cell_type": "code",
   "execution_count": 140,
   "metadata": {},
   "outputs": [
    {
     "name": "stdout",
     "output_type": "stream",
     "text": [
      "['setname', 'filename', 'filepath', 'subject', 'group', 'condition', 'session', 'comments', 'nbchan', 'trials', 'pnts', 'srate', 'xmin', 'xmax', 'times', 'data', 'icaact', 'icawinv', 'icasphere', 'icaweights', 'icachansind', 'chanlocs', 'urchanlocs', 'chaninfo', 'ref', 'event', 'urevent', 'eventdescription', 'epoch', 'epochdescription', 'reject', 'stats', 'specdata', 'specicaact', 'splinefile', 'icasplinefile', 'dipfit', 'history', 'saved', 'etc', 'spedata']\n"
     ]
    }
   ],
   "source": [
    "# data atrributes\n",
    "fields = list(eeg_data['EEG'][0].dtype.names)\n",
    "print(fields)"
   ]
  },
  {
   "cell_type": "code",
   "execution_count": 182,
   "metadata": {},
   "outputs": [],
   "source": [
    "srate = eeg_data['EEG']['srate'][0][0][0][0]"
   ]
  },
  {
   "cell_type": "markdown",
   "metadata": {},
   "source": [
    "### Plot of the electrode positions"
   ]
  },
  {
   "cell_type": "code",
   "execution_count": null,
   "metadata": {},
   "outputs": [],
   "source": [
    "labels = list(np.hstack(eeg_data['EEG']['chanlocs'][0][0]['labels'][0]))"
   ]
  },
  {
   "cell_type": "code",
   "execution_count": 144,
   "metadata": {},
   "outputs": [
    {
     "data": {
      "application/vnd.plotly.v1+json": {
       "config": {
        "plotlyServerURL": "https://plot.ly"
       },
       "data": [
        {
         "mode": "markers",
         "text": [
          "Fp1",
          "AF7",
          "AF3",
          "F1",
          "F3",
          "F5",
          "F7",
          "FT7",
          "FC5",
          "FC3",
          "FC1",
          "C1",
          "C3",
          "C5",
          "T7",
          "TP7",
          "CP5",
          "CP3",
          "CP1",
          "P1",
          "P3",
          "P5",
          "P7",
          "P9",
          "PO7",
          "PO3",
          "O1",
          "Iz",
          "Oz",
          "POz",
          "Pz",
          "CPz",
          "Fpz",
          "Fp2",
          "AF8",
          "AF4",
          "AFz",
          "Fz",
          "F2",
          "F4",
          "F6",
          "F8",
          "FT8",
          "FC6",
          "FC4",
          "FC2",
          "FCz",
          "Cz",
          "C2",
          "C4",
          "C6",
          "T8",
          "TP8",
          "CP6",
          "CP4",
          "CP2",
          "P2",
          "P4",
          "P6",
          "P8",
          "P10",
          "PO8",
          "PO4",
          "O2"
         ],
         "type": "scatter3d",
         "x": [
          80.78401376909139,
          68.69107635103231,
          76.15276676848455,
          59.9127302448179,
          57.55106339309903,
          54.03788811325115,
          49.87137794892023,
          26.207503532593574,
          28.762823435357603,
          30.95528495319153,
          32.43618389873952,
          2.1148042279527383e-15,
          3.868125336135656e-15,
          4.949504829418186e-15,
          5.1764925374825565e-15,
          -26.20750353259356,
          -28.762823435357593,
          -30.955284953191512,
          -32.436183898739515,
          -59.912730244817894,
          -57.55106339309902,
          -54.037888113251135,
          -49.871377948920234,
          -44.48410532854737,
          -68.69107635103231,
          -76.15276676848454,
          -80.7840137690914,
          -77.63325107746135,
          -84.98123361344625,
          -79.0255388591416,
          -60.738480948462545,
          -32.927883635255974,
          84.98123361344625,
          80.78401376909139,
          68.72089942163154,
          76.15276676848455,
          79.0255388591416,
          60.738480948462545,
          59.87441276601175,
          57.584026106810526,
          54.02633404653858,
          49.926526811881665,
          26.207503532593574,
          28.762823435357603,
          30.95528495319153,
          32.43618389873952,
          32.927883635255974,
          5.204748896376251e-15,
          2.11920249382479e-15,
          3.8678822102511895e-15,
          4.949504829418186e-15,
          5.1764925374825565e-15,
          -26.284771809974192,
          -28.762823435357593,
          -30.955284953191512,
          -32.436183898739515,
          -59.874412766011744,
          -57.58402610681054,
          -54.02633404653857,
          -49.92652681188165,
          -44.48410532854737,
          -68.72089942163154,
          -76.15276676848454,
          -80.7840137690914
         ],
         "y": [
          26.133014404070234,
          49.70943131488795,
          31.48279679848069,
          26.042093389975367,
          48.200427317538846,
          63.05822186454817,
          68.42333502695395,
          80.41001431187064,
          76.24736450995313,
          59.27497817608923,
          32.351377131228254,
          34.53737403184571,
          63.17128071259069,
          80.83154804902482,
          84.53853863965728,
          80.41001431187064,
          76.24736450995313,
          59.274978176089235,
          32.351377131228254,
          26.042093389975374,
          48.20042731753886,
          63.05822186454818,
          68.42333502695394,
          59.708274076220285,
          49.70943131488796,
          31.482796798480713,
          26.133014404070224,
          -9.507331243941586e-15,
          -1.040719957323004e-14,
          -9.677837321474254e-15,
          -7.438318627860716e-15,
          -4.0325027296612744e-15,
          0,
          -26.133014404070234,
          -49.66890402811598,
          -31.48279679848069,
          0,
          0,
          -26.02543804214761,
          -48.142596468452346,
          -63.04473912257514,
          -68.38359029760959,
          -80.41001431187064,
          -76.24736450995313,
          -59.27497817608923,
          -32.351377131228254,
          0,
          0,
          -34.60920316454118,
          -63.16731016557851,
          -80.83154804902482,
          -84.53853863965728,
          -80.38510211967602,
          -76.24736450995313,
          -59.274978176089235,
          -32.351377131228254,
          -26.025438042147616,
          -48.14259646845234,
          -63.044739122575145,
          -68.3835902976096,
          -59.708274076220285,
          -49.66890402811598,
          -31.482796798480713,
          -26.133014404070224
         ],
         "z": [
          -4.00108454195971,
          -5.958898227616102,
          20.846813167733092,
          54.38082498895619,
          39.869711671018536,
          18.126425558867645,
          -7.4895183600262385,
          -8.508604877055598,
          24.166906986885675,
          52.47139502329684,
          71.59806122933911,
          77.66704445892344,
          56.87169149173486,
          26.29183979865601,
          -8.845082513531118,
          -8.508604877055598,
          24.166906986885675,
          52.47139502329684,
          71.59806122933911,
          54.38082498895619,
          39.869711671018536,
          18.126425558867645,
          -7.4895183600262385,
          -41.001053400585484,
          -5.958898227616102,
          20.846813167733092,
          -4.00108454195971,
          -34.613268079507414,
          -1.7860385037488253,
          31.304380013383113,
          59.46290383149189,
          78.36296624875199,
          -1.7860385037488253,
          -4.00108454195971,
          -5.95297869371352,
          20.846813167733092,
          31.304380013383113,
          59.46290383149189,
          54.43097712368926,
          39.8919834378528,
          18.20758354253168,
          -7.485085070400888,
          -8.508604877055598,
          24.166906986885675,
          52.47139502329684,
          71.59806122933911,
          78.36296624875199,
          85,
          77.63506331752112,
          56.87610154050295,
          26.29183979865601,
          -8.845082513531118,
          -8.505652714920988,
          24.166906986885675,
          52.47139502329684,
          71.59806122933911,
          54.43097712368926,
          39.8919834378528,
          18.20758354253168,
          -7.485085070400888,
          -41.001053400585484,
          -5.95297869371352,
          20.846813167733092,
          -4.00108454195971
         ]
        }
       ],
       "layout": {
        "autosize": true,
        "scene": {
         "aspectmode": "auto",
         "aspectratio": {
          "x": 1.1068337209300725,
          "y": 1.1010678629371808,
          "z": 0.8205471305044237
         },
         "camera": {
          "center": {
           "x": 0,
           "y": 0,
           "z": 0
          },
          "eye": {
           "x": 0.09729287049808401,
           "y": 1.307452226746693,
           "z": 0.37541353445185577
          },
          "projection": {
           "type": "perspective"
          },
          "up": {
           "x": 0,
           "y": 0,
           "z": 1
          }
         }
        },
        "template": {
         "data": {
          "bar": [
           {
            "error_x": {
             "color": "#2a3f5f"
            },
            "error_y": {
             "color": "#2a3f5f"
            },
            "marker": {
             "line": {
              "color": "#E5ECF6",
              "width": 0.5
             }
            },
            "type": "bar"
           }
          ],
          "barpolar": [
           {
            "marker": {
             "line": {
              "color": "#E5ECF6",
              "width": 0.5
             }
            },
            "type": "barpolar"
           }
          ],
          "carpet": [
           {
            "aaxis": {
             "endlinecolor": "#2a3f5f",
             "gridcolor": "white",
             "linecolor": "white",
             "minorgridcolor": "white",
             "startlinecolor": "#2a3f5f"
            },
            "baxis": {
             "endlinecolor": "#2a3f5f",
             "gridcolor": "white",
             "linecolor": "white",
             "minorgridcolor": "white",
             "startlinecolor": "#2a3f5f"
            },
            "type": "carpet"
           }
          ],
          "choropleth": [
           {
            "colorbar": {
             "outlinewidth": 0,
             "ticks": ""
            },
            "type": "choropleth"
           }
          ],
          "contour": [
           {
            "colorbar": {
             "outlinewidth": 0,
             "ticks": ""
            },
            "colorscale": [
             [
              0,
              "#0d0887"
             ],
             [
              0.1111111111111111,
              "#46039f"
             ],
             [
              0.2222222222222222,
              "#7201a8"
             ],
             [
              0.3333333333333333,
              "#9c179e"
             ],
             [
              0.4444444444444444,
              "#bd3786"
             ],
             [
              0.5555555555555556,
              "#d8576b"
             ],
             [
              0.6666666666666666,
              "#ed7953"
             ],
             [
              0.7777777777777778,
              "#fb9f3a"
             ],
             [
              0.8888888888888888,
              "#fdca26"
             ],
             [
              1,
              "#f0f921"
             ]
            ],
            "type": "contour"
           }
          ],
          "contourcarpet": [
           {
            "colorbar": {
             "outlinewidth": 0,
             "ticks": ""
            },
            "type": "contourcarpet"
           }
          ],
          "heatmap": [
           {
            "colorbar": {
             "outlinewidth": 0,
             "ticks": ""
            },
            "colorscale": [
             [
              0,
              "#0d0887"
             ],
             [
              0.1111111111111111,
              "#46039f"
             ],
             [
              0.2222222222222222,
              "#7201a8"
             ],
             [
              0.3333333333333333,
              "#9c179e"
             ],
             [
              0.4444444444444444,
              "#bd3786"
             ],
             [
              0.5555555555555556,
              "#d8576b"
             ],
             [
              0.6666666666666666,
              "#ed7953"
             ],
             [
              0.7777777777777778,
              "#fb9f3a"
             ],
             [
              0.8888888888888888,
              "#fdca26"
             ],
             [
              1,
              "#f0f921"
             ]
            ],
            "type": "heatmap"
           }
          ],
          "heatmapgl": [
           {
            "colorbar": {
             "outlinewidth": 0,
             "ticks": ""
            },
            "colorscale": [
             [
              0,
              "#0d0887"
             ],
             [
              0.1111111111111111,
              "#46039f"
             ],
             [
              0.2222222222222222,
              "#7201a8"
             ],
             [
              0.3333333333333333,
              "#9c179e"
             ],
             [
              0.4444444444444444,
              "#bd3786"
             ],
             [
              0.5555555555555556,
              "#d8576b"
             ],
             [
              0.6666666666666666,
              "#ed7953"
             ],
             [
              0.7777777777777778,
              "#fb9f3a"
             ],
             [
              0.8888888888888888,
              "#fdca26"
             ],
             [
              1,
              "#f0f921"
             ]
            ],
            "type": "heatmapgl"
           }
          ],
          "histogram": [
           {
            "marker": {
             "colorbar": {
              "outlinewidth": 0,
              "ticks": ""
             }
            },
            "type": "histogram"
           }
          ],
          "histogram2d": [
           {
            "colorbar": {
             "outlinewidth": 0,
             "ticks": ""
            },
            "colorscale": [
             [
              0,
              "#0d0887"
             ],
             [
              0.1111111111111111,
              "#46039f"
             ],
             [
              0.2222222222222222,
              "#7201a8"
             ],
             [
              0.3333333333333333,
              "#9c179e"
             ],
             [
              0.4444444444444444,
              "#bd3786"
             ],
             [
              0.5555555555555556,
              "#d8576b"
             ],
             [
              0.6666666666666666,
              "#ed7953"
             ],
             [
              0.7777777777777778,
              "#fb9f3a"
             ],
             [
              0.8888888888888888,
              "#fdca26"
             ],
             [
              1,
              "#f0f921"
             ]
            ],
            "type": "histogram2d"
           }
          ],
          "histogram2dcontour": [
           {
            "colorbar": {
             "outlinewidth": 0,
             "ticks": ""
            },
            "colorscale": [
             [
              0,
              "#0d0887"
             ],
             [
              0.1111111111111111,
              "#46039f"
             ],
             [
              0.2222222222222222,
              "#7201a8"
             ],
             [
              0.3333333333333333,
              "#9c179e"
             ],
             [
              0.4444444444444444,
              "#bd3786"
             ],
             [
              0.5555555555555556,
              "#d8576b"
             ],
             [
              0.6666666666666666,
              "#ed7953"
             ],
             [
              0.7777777777777778,
              "#fb9f3a"
             ],
             [
              0.8888888888888888,
              "#fdca26"
             ],
             [
              1,
              "#f0f921"
             ]
            ],
            "type": "histogram2dcontour"
           }
          ],
          "mesh3d": [
           {
            "colorbar": {
             "outlinewidth": 0,
             "ticks": ""
            },
            "type": "mesh3d"
           }
          ],
          "parcoords": [
           {
            "line": {
             "colorbar": {
              "outlinewidth": 0,
              "ticks": ""
             }
            },
            "type": "parcoords"
           }
          ],
          "pie": [
           {
            "automargin": true,
            "type": "pie"
           }
          ],
          "scatter": [
           {
            "marker": {
             "colorbar": {
              "outlinewidth": 0,
              "ticks": ""
             }
            },
            "type": "scatter"
           }
          ],
          "scatter3d": [
           {
            "line": {
             "colorbar": {
              "outlinewidth": 0,
              "ticks": ""
             }
            },
            "marker": {
             "colorbar": {
              "outlinewidth": 0,
              "ticks": ""
             }
            },
            "type": "scatter3d"
           }
          ],
          "scattercarpet": [
           {
            "marker": {
             "colorbar": {
              "outlinewidth": 0,
              "ticks": ""
             }
            },
            "type": "scattercarpet"
           }
          ],
          "scattergeo": [
           {
            "marker": {
             "colorbar": {
              "outlinewidth": 0,
              "ticks": ""
             }
            },
            "type": "scattergeo"
           }
          ],
          "scattergl": [
           {
            "marker": {
             "colorbar": {
              "outlinewidth": 0,
              "ticks": ""
             }
            },
            "type": "scattergl"
           }
          ],
          "scattermapbox": [
           {
            "marker": {
             "colorbar": {
              "outlinewidth": 0,
              "ticks": ""
             }
            },
            "type": "scattermapbox"
           }
          ],
          "scatterpolar": [
           {
            "marker": {
             "colorbar": {
              "outlinewidth": 0,
              "ticks": ""
             }
            },
            "type": "scatterpolar"
           }
          ],
          "scatterpolargl": [
           {
            "marker": {
             "colorbar": {
              "outlinewidth": 0,
              "ticks": ""
             }
            },
            "type": "scatterpolargl"
           }
          ],
          "scatterternary": [
           {
            "marker": {
             "colorbar": {
              "outlinewidth": 0,
              "ticks": ""
             }
            },
            "type": "scatterternary"
           }
          ],
          "surface": [
           {
            "colorbar": {
             "outlinewidth": 0,
             "ticks": ""
            },
            "colorscale": [
             [
              0,
              "#0d0887"
             ],
             [
              0.1111111111111111,
              "#46039f"
             ],
             [
              0.2222222222222222,
              "#7201a8"
             ],
             [
              0.3333333333333333,
              "#9c179e"
             ],
             [
              0.4444444444444444,
              "#bd3786"
             ],
             [
              0.5555555555555556,
              "#d8576b"
             ],
             [
              0.6666666666666666,
              "#ed7953"
             ],
             [
              0.7777777777777778,
              "#fb9f3a"
             ],
             [
              0.8888888888888888,
              "#fdca26"
             ],
             [
              1,
              "#f0f921"
             ]
            ],
            "type": "surface"
           }
          ],
          "table": [
           {
            "cells": {
             "fill": {
              "color": "#EBF0F8"
             },
             "line": {
              "color": "white"
             }
            },
            "header": {
             "fill": {
              "color": "#C8D4E3"
             },
             "line": {
              "color": "white"
             }
            },
            "type": "table"
           }
          ]
         },
         "layout": {
          "annotationdefaults": {
           "arrowcolor": "#2a3f5f",
           "arrowhead": 0,
           "arrowwidth": 1
          },
          "coloraxis": {
           "colorbar": {
            "outlinewidth": 0,
            "ticks": ""
           }
          },
          "colorscale": {
           "diverging": [
            [
             0,
             "#8e0152"
            ],
            [
             0.1,
             "#c51b7d"
            ],
            [
             0.2,
             "#de77ae"
            ],
            [
             0.3,
             "#f1b6da"
            ],
            [
             0.4,
             "#fde0ef"
            ],
            [
             0.5,
             "#f7f7f7"
            ],
            [
             0.6,
             "#e6f5d0"
            ],
            [
             0.7,
             "#b8e186"
            ],
            [
             0.8,
             "#7fbc41"
            ],
            [
             0.9,
             "#4d9221"
            ],
            [
             1,
             "#276419"
            ]
           ],
           "sequential": [
            [
             0,
             "#0d0887"
            ],
            [
             0.1111111111111111,
             "#46039f"
            ],
            [
             0.2222222222222222,
             "#7201a8"
            ],
            [
             0.3333333333333333,
             "#9c179e"
            ],
            [
             0.4444444444444444,
             "#bd3786"
            ],
            [
             0.5555555555555556,
             "#d8576b"
            ],
            [
             0.6666666666666666,
             "#ed7953"
            ],
            [
             0.7777777777777778,
             "#fb9f3a"
            ],
            [
             0.8888888888888888,
             "#fdca26"
            ],
            [
             1,
             "#f0f921"
            ]
           ],
           "sequentialminus": [
            [
             0,
             "#0d0887"
            ],
            [
             0.1111111111111111,
             "#46039f"
            ],
            [
             0.2222222222222222,
             "#7201a8"
            ],
            [
             0.3333333333333333,
             "#9c179e"
            ],
            [
             0.4444444444444444,
             "#bd3786"
            ],
            [
             0.5555555555555556,
             "#d8576b"
            ],
            [
             0.6666666666666666,
             "#ed7953"
            ],
            [
             0.7777777777777778,
             "#fb9f3a"
            ],
            [
             0.8888888888888888,
             "#fdca26"
            ],
            [
             1,
             "#f0f921"
            ]
           ]
          },
          "colorway": [
           "#636efa",
           "#EF553B",
           "#00cc96",
           "#ab63fa",
           "#FFA15A",
           "#19d3f3",
           "#FF6692",
           "#B6E880",
           "#FF97FF",
           "#FECB52"
          ],
          "font": {
           "color": "#2a3f5f"
          },
          "geo": {
           "bgcolor": "white",
           "lakecolor": "white",
           "landcolor": "#E5ECF6",
           "showlakes": true,
           "showland": true,
           "subunitcolor": "white"
          },
          "hoverlabel": {
           "align": "left"
          },
          "hovermode": "closest",
          "mapbox": {
           "style": "light"
          },
          "paper_bgcolor": "white",
          "plot_bgcolor": "#E5ECF6",
          "polar": {
           "angularaxis": {
            "gridcolor": "white",
            "linecolor": "white",
            "ticks": ""
           },
           "bgcolor": "#E5ECF6",
           "radialaxis": {
            "gridcolor": "white",
            "linecolor": "white",
            "ticks": ""
           }
          },
          "scene": {
           "xaxis": {
            "backgroundcolor": "#E5ECF6",
            "gridcolor": "white",
            "gridwidth": 2,
            "linecolor": "white",
            "showbackground": true,
            "ticks": "",
            "zerolinecolor": "white"
           },
           "yaxis": {
            "backgroundcolor": "#E5ECF6",
            "gridcolor": "white",
            "gridwidth": 2,
            "linecolor": "white",
            "showbackground": true,
            "ticks": "",
            "zerolinecolor": "white"
           },
           "zaxis": {
            "backgroundcolor": "#E5ECF6",
            "gridcolor": "white",
            "gridwidth": 2,
            "linecolor": "white",
            "showbackground": true,
            "ticks": "",
            "zerolinecolor": "white"
           }
          },
          "shapedefaults": {
           "line": {
            "color": "#2a3f5f"
           }
          },
          "ternary": {
           "aaxis": {
            "gridcolor": "white",
            "linecolor": "white",
            "ticks": ""
           },
           "baxis": {
            "gridcolor": "white",
            "linecolor": "white",
            "ticks": ""
           },
           "bgcolor": "#E5ECF6",
           "caxis": {
            "gridcolor": "white",
            "linecolor": "white",
            "ticks": ""
           }
          },
          "title": {
           "x": 0.05
          },
          "xaxis": {
           "automargin": true,
           "gridcolor": "white",
           "linecolor": "white",
           "ticks": "",
           "title": {
            "standoff": 15
           },
           "zerolinecolor": "white",
           "zerolinewidth": 2
          },
          "yaxis": {
           "automargin": true,
           "gridcolor": "white",
           "linecolor": "white",
           "ticks": "",
           "title": {
            "standoff": 15
           },
           "zerolinecolor": "white",
           "zerolinewidth": 2
          }
         }
        },
        "title": {
         "text": "Positions of Electrodes"
        }
       }
      },
      "image/png": "[encoded data removed]",
      "text/html": [
       "<div>\n",
       "        \n",
       "        \n",
       "            <div id=\"69ffc7fe-5054-4b00-9997-6d368e1008fc\" class=\"plotly-graph-div\" style=\"height:525px; width:100%;\"></div>\n",
       "            <script type=\"text/javascript\">\n",
       "                require([\"plotly\"], function(Plotly) {\n",
       "                    window.PLOTLYENV=window.PLOTLYENV || {};\n",
       "                    \n",
       "                if (document.getElementById(\"69ffc7fe-5054-4b00-9997-6d368e1008fc\")) {\n",
       "                    Plotly.newPlot(\n",
       "                        '69ffc7fe-5054-4b00-9997-6d368e1008fc',\n",
       "                        [{\"mode\": \"markers\", \"text\": [\"Fp1\", \"AF7\", \"AF3\", \"F1\", \"F3\", \"F5\", \"F7\", \"FT7\", \"FC5\", \"FC3\", \"FC1\", \"C1\", \"C3\", \"C5\", \"T7\", \"TP7\", \"CP5\", \"CP3\", \"CP1\", \"P1\", \"P3\", \"P5\", \"P7\", \"P9\", \"PO7\", \"PO3\", \"O1\", \"Iz\", \"Oz\", \"POz\", \"Pz\", \"CPz\", \"Fpz\", \"Fp2\", \"AF8\", \"AF4\", \"AFz\", \"Fz\", \"F2\", \"F4\", \"F6\", \"F8\", \"FT8\", \"FC6\", \"FC4\", \"FC2\", \"FCz\", \"Cz\", \"C2\", \"C4\", \"C6\", \"T8\", \"TP8\", \"CP6\", \"CP4\", \"CP2\", \"P2\", \"P4\", \"P6\", \"P8\", \"P10\", \"PO8\", \"PO4\", \"O2\"], \"type\": \"scatter3d\", \"x\": [80.78401376909139, 68.69107635103231, 76.15276676848455, 59.9127302448179, 57.55106339309903, 54.03788811325115, 49.87137794892023, 26.207503532593574, 28.762823435357603, 30.95528495319153, 32.43618389873952, 2.1148042279527383e-15, 3.868125336135656e-15, 4.949504829418186e-15, 5.1764925374825565e-15, -26.20750353259356, -28.762823435357593, -30.955284953191512, -32.436183898739515, -59.912730244817894, -57.55106339309902, -54.037888113251135, -49.871377948920234, -44.48410532854737, -68.69107635103231, -76.15276676848454, -80.7840137690914, -77.63325107746135, -84.98123361344625, -79.0255388591416, -60.738480948462545, -32.927883635255974, 84.98123361344625, 80.78401376909139, 68.72089942163154, 76.15276676848455, 79.0255388591416, 60.738480948462545, 59.87441276601175, 57.584026106810526, 54.02633404653858, 49.926526811881665, 26.207503532593574, 28.762823435357603, 30.95528495319153, 32.43618389873952, 32.927883635255974, 5.204748896376251e-15, 2.11920249382479e-15, 3.8678822102511895e-15, 4.949504829418186e-15, 5.1764925374825565e-15, -26.284771809974192, -28.762823435357593, -30.955284953191512, -32.436183898739515, -59.874412766011744, -57.58402610681054, -54.02633404653857, -49.92652681188165, -44.48410532854737, -68.72089942163154, -76.15276676848454, -80.7840137690914], \"y\": [26.133014404070234, 49.70943131488795, 31.48279679848069, 26.042093389975367, 48.200427317538846, 63.05822186454817, 68.42333502695395, 80.41001431187064, 76.24736450995313, 59.27497817608923, 32.351377131228254, 34.53737403184571, 63.17128071259069, 80.83154804902482, 84.53853863965728, 80.41001431187064, 76.24736450995313, 59.274978176089235, 32.351377131228254, 26.042093389975374, 48.20042731753886, 63.05822186454818, 68.42333502695394, 59.708274076220285, 49.70943131488796, 31.482796798480713, 26.133014404070224, -9.507331243941586e-15, -1.040719957323004e-14, -9.677837321474254e-15, -7.438318627860716e-15, -4.0325027296612744e-15, 0.0, -26.133014404070234, -49.66890402811598, -31.48279679848069, 0.0, 0.0, -26.02543804214761, -48.142596468452346, -63.04473912257514, -68.38359029760959, -80.41001431187064, -76.24736450995313, -59.27497817608923, -32.351377131228254, 0.0, 0.0, -34.60920316454118, -63.16731016557851, -80.83154804902482, -84.53853863965728, -80.38510211967602, -76.24736450995313, -59.274978176089235, -32.351377131228254, -26.025438042147616, -48.14259646845234, -63.044739122575145, -68.3835902976096, -59.708274076220285, -49.66890402811598, -31.482796798480713, -26.133014404070224], \"z\": [-4.00108454195971, -5.958898227616102, 20.846813167733092, 54.38082498895619, 39.869711671018536, 18.126425558867645, -7.4895183600262385, -8.508604877055598, 24.166906986885675, 52.47139502329684, 71.59806122933911, 77.66704445892344, 56.87169149173486, 26.29183979865601, -8.845082513531118, -8.508604877055598, 24.166906986885675, 52.47139502329684, 71.59806122933911, 54.38082498895619, 39.869711671018536, 18.126425558867645, -7.4895183600262385, -41.001053400585484, -5.958898227616102, 20.846813167733092, -4.00108454195971, -34.613268079507414, -1.7860385037488253, 31.304380013383113, 59.46290383149189, 78.36296624875199, -1.7860385037488253, -4.00108454195971, -5.95297869371352, 20.846813167733092, 31.304380013383113, 59.46290383149189, 54.43097712368926, 39.8919834378528, 18.20758354253168, -7.485085070400888, -8.508604877055598, 24.166906986885675, 52.47139502329684, 71.59806122933911, 78.36296624875199, 85.0, 77.63506331752112, 56.87610154050295, 26.29183979865601, -8.845082513531118, -8.505652714920988, 24.166906986885675, 52.47139502329684, 71.59806122933911, 54.43097712368926, 39.8919834378528, 18.20758354253168, -7.485085070400888, -41.001053400585484, -5.95297869371352, 20.846813167733092, -4.00108454195971]}],\n",
       "                        {\"template\": {\"data\": {\"bar\": [{\"error_x\": {\"color\": \"#2a3f5f\"}, \"error_y\": {\"color\": \"#2a3f5f\"}, \"marker\": {\"line\": {\"color\": \"#E5ECF6\", \"width\": 0.5}}, \"type\": \"bar\"}], \"barpolar\": [{\"marker\": {\"line\": {\"color\": \"#E5ECF6\", \"width\": 0.5}}, \"type\": \"barpolar\"}], \"carpet\": [{\"aaxis\": {\"endlinecolor\": \"#2a3f5f\", \"gridcolor\": \"white\", \"linecolor\": \"white\", \"minorgridcolor\": \"white\", \"startlinecolor\": \"#2a3f5f\"}, \"baxis\": {\"endlinecolor\": \"#2a3f5f\", \"gridcolor\": \"white\", \"linecolor\": \"white\", \"minorgridcolor\": \"white\", \"startlinecolor\": \"#2a3f5f\"}, \"type\": \"carpet\"}], \"choropleth\": [{\"colorbar\": {\"outlinewidth\": 0, \"ticks\": \"\"}, \"type\": \"choropleth\"}], \"contour\": [{\"colorbar\": {\"outlinewidth\": 0, \"ticks\": \"\"}, \"colorscale\": [[0.0, \"#0d0887\"], [0.1111111111111111, \"#46039f\"], [0.2222222222222222, \"#7201a8\"], [0.3333333333333333, \"#9c179e\"], [0.4444444444444444, \"#bd3786\"], [0.5555555555555556, \"#d8576b\"], [0.6666666666666666, \"#ed7953\"], [0.7777777777777778, \"#fb9f3a\"], [0.8888888888888888, \"#fdca26\"], [1.0, \"#f0f921\"]], \"type\": \"contour\"}], \"contourcarpet\": [{\"colorbar\": {\"outlinewidth\": 0, \"ticks\": \"\"}, \"type\": \"contourcarpet\"}], \"heatmap\": [{\"colorbar\": {\"outlinewidth\": 0, \"ticks\": \"\"}, \"colorscale\": [[0.0, \"#0d0887\"], [0.1111111111111111, \"#46039f\"], [0.2222222222222222, \"#7201a8\"], [0.3333333333333333, \"#9c179e\"], [0.4444444444444444, \"#bd3786\"], [0.5555555555555556, \"#d8576b\"], [0.6666666666666666, \"#ed7953\"], [0.7777777777777778, \"#fb9f3a\"], [0.8888888888888888, \"#fdca26\"], [1.0, \"#f0f921\"]], \"type\": \"heatmap\"}], \"heatmapgl\": [{\"colorbar\": {\"outlinewidth\": 0, \"ticks\": \"\"}, \"colorscale\": [[0.0, \"#0d0887\"], [0.1111111111111111, \"#46039f\"], [0.2222222222222222, \"#7201a8\"], [0.3333333333333333, \"#9c179e\"], [0.4444444444444444, \"#bd3786\"], [0.5555555555555556, \"#d8576b\"], [0.6666666666666666, \"#ed7953\"], [0.7777777777777778, \"#fb9f3a\"], [0.8888888888888888, \"#fdca26\"], [1.0, \"#f0f921\"]], \"type\": \"heatmapgl\"}], \"histogram\": [{\"marker\": {\"colorbar\": {\"outlinewidth\": 0, \"ticks\": \"\"}}, \"type\": \"histogram\"}], \"histogram2d\": [{\"colorbar\": {\"outlinewidth\": 0, \"ticks\": \"\"}, \"colorscale\": [[0.0, \"#0d0887\"], [0.1111111111111111, \"#46039f\"], [0.2222222222222222, \"#7201a8\"], [0.3333333333333333, \"#9c179e\"], [0.4444444444444444, \"#bd3786\"], [0.5555555555555556, \"#d8576b\"], [0.6666666666666666, \"#ed7953\"], [0.7777777777777778, \"#fb9f3a\"], [0.8888888888888888, \"#fdca26\"], [1.0, \"#f0f921\"]], \"type\": \"histogram2d\"}], \"histogram2dcontour\": [{\"colorbar\": {\"outlinewidth\": 0, \"ticks\": \"\"}, \"colorscale\": [[0.0, \"#0d0887\"], [0.1111111111111111, \"#46039f\"], [0.2222222222222222, \"#7201a8\"], [0.3333333333333333, \"#9c179e\"], [0.4444444444444444, \"#bd3786\"], [0.5555555555555556, \"#d8576b\"], [0.6666666666666666, \"#ed7953\"], [0.7777777777777778, \"#fb9f3a\"], [0.8888888888888888, \"#fdca26\"], [1.0, \"#f0f921\"]], \"type\": \"histogram2dcontour\"}], \"mesh3d\": [{\"colorbar\": {\"outlinewidth\": 0, \"ticks\": \"\"}, \"type\": \"mesh3d\"}], \"parcoords\": [{\"line\": {\"colorbar\": {\"outlinewidth\": 0, \"ticks\": \"\"}}, \"type\": \"parcoords\"}], \"pie\": [{\"automargin\": true, \"type\": \"pie\"}], \"scatter\": [{\"marker\": {\"colorbar\": {\"outlinewidth\": 0, \"ticks\": \"\"}}, \"type\": \"scatter\"}], \"scatter3d\": [{\"line\": {\"colorbar\": {\"outlinewidth\": 0, \"ticks\": \"\"}}, \"marker\": {\"colorbar\": {\"outlinewidth\": 0, \"ticks\": \"\"}}, \"type\": \"scatter3d\"}], \"scattercarpet\": [{\"marker\": {\"colorbar\": {\"outlinewidth\": 0, \"ticks\": \"\"}}, \"type\": \"scattercarpet\"}], \"scattergeo\": [{\"marker\": {\"colorbar\": {\"outlinewidth\": 0, \"ticks\": \"\"}}, \"type\": \"scattergeo\"}], \"scattergl\": [{\"marker\": {\"colorbar\": {\"outlinewidth\": 0, \"ticks\": \"\"}}, \"type\": \"scattergl\"}], \"scattermapbox\": [{\"marker\": {\"colorbar\": {\"outlinewidth\": 0, \"ticks\": \"\"}}, \"type\": \"scattermapbox\"}], \"scatterpolar\": [{\"marker\": {\"colorbar\": {\"outlinewidth\": 0, \"ticks\": \"\"}}, \"type\": \"scatterpolar\"}], \"scatterpolargl\": [{\"marker\": {\"colorbar\": {\"outlinewidth\": 0, \"ticks\": \"\"}}, \"type\": \"scatterpolargl\"}], \"scatterternary\": [{\"marker\": {\"colorbar\": {\"outlinewidth\": 0, \"ticks\": \"\"}}, \"type\": \"scatterternary\"}], \"surface\": [{\"colorbar\": {\"outlinewidth\": 0, \"ticks\": \"\"}, \"colorscale\": [[0.0, \"#0d0887\"], [0.1111111111111111, \"#46039f\"], [0.2222222222222222, \"#7201a8\"], [0.3333333333333333, \"#9c179e\"], [0.4444444444444444, \"#bd3786\"], [0.5555555555555556, \"#d8576b\"], [0.6666666666666666, \"#ed7953\"], [0.7777777777777778, \"#fb9f3a\"], [0.8888888888888888, \"#fdca26\"], [1.0, \"#f0f921\"]], \"type\": \"surface\"}], \"table\": [{\"cells\": {\"fill\": {\"color\": \"#EBF0F8\"}, \"line\": {\"color\": \"white\"}}, \"header\": {\"fill\": {\"color\": \"#C8D4E3\"}, \"line\": {\"color\": \"white\"}}, \"type\": \"table\"}]}, \"layout\": {\"annotationdefaults\": {\"arrowcolor\": \"#2a3f5f\", \"arrowhead\": 0, \"arrowwidth\": 1}, \"coloraxis\": {\"colorbar\": {\"outlinewidth\": 0, \"ticks\": \"\"}}, \"colorscale\": {\"diverging\": [[0, \"#8e0152\"], [0.1, \"#c51b7d\"], [0.2, \"#de77ae\"], [0.3, \"#f1b6da\"], [0.4, \"#fde0ef\"], [0.5, \"#f7f7f7\"], [0.6, \"#e6f5d0\"], [0.7, \"#b8e186\"], [0.8, \"#7fbc41\"], [0.9, \"#4d9221\"], [1, \"#276419\"]], \"sequential\": [[0.0, \"#0d0887\"], [0.1111111111111111, \"#46039f\"], [0.2222222222222222, \"#7201a8\"], [0.3333333333333333, \"#9c179e\"], [0.4444444444444444, \"#bd3786\"], [0.5555555555555556, \"#d8576b\"], [0.6666666666666666, \"#ed7953\"], [0.7777777777777778, \"#fb9f3a\"], [0.8888888888888888, \"#fdca26\"], [1.0, \"#f0f921\"]], \"sequentialminus\": [[0.0, \"#0d0887\"], [0.1111111111111111, \"#46039f\"], [0.2222222222222222, \"#7201a8\"], [0.3333333333333333, \"#9c179e\"], [0.4444444444444444, \"#bd3786\"], [0.5555555555555556, \"#d8576b\"], [0.6666666666666666, \"#ed7953\"], [0.7777777777777778, \"#fb9f3a\"], [0.8888888888888888, \"#fdca26\"], [1.0, \"#f0f921\"]]}, \"colorway\": [\"#636efa\", \"#EF553B\", \"#00cc96\", \"#ab63fa\", \"#FFA15A\", \"#19d3f3\", \"#FF6692\", \"#B6E880\", \"#FF97FF\", \"#FECB52\"], \"font\": {\"color\": \"#2a3f5f\"}, \"geo\": {\"bgcolor\": \"white\", \"lakecolor\": \"white\", \"landcolor\": \"#E5ECF6\", \"showlakes\": true, \"showland\": true, \"subunitcolor\": \"white\"}, \"hoverlabel\": {\"align\": \"left\"}, \"hovermode\": \"closest\", \"mapbox\": {\"style\": \"light\"}, \"paper_bgcolor\": \"white\", \"plot_bgcolor\": \"#E5ECF6\", \"polar\": {\"angularaxis\": {\"gridcolor\": \"white\", \"linecolor\": \"white\", \"ticks\": \"\"}, \"bgcolor\": \"#E5ECF6\", \"radialaxis\": {\"gridcolor\": \"white\", \"linecolor\": \"white\", \"ticks\": \"\"}}, \"scene\": {\"xaxis\": {\"backgroundcolor\": \"#E5ECF6\", \"gridcolor\": \"white\", \"gridwidth\": 2, \"linecolor\": \"white\", \"showbackground\": true, \"ticks\": \"\", \"zerolinecolor\": \"white\"}, \"yaxis\": {\"backgroundcolor\": \"#E5ECF6\", \"gridcolor\": \"white\", \"gridwidth\": 2, \"linecolor\": \"white\", \"showbackground\": true, \"ticks\": \"\", \"zerolinecolor\": \"white\"}, \"zaxis\": {\"backgroundcolor\": \"#E5ECF6\", \"gridcolor\": \"white\", \"gridwidth\": 2, \"linecolor\": \"white\", \"showbackground\": true, \"ticks\": \"\", \"zerolinecolor\": \"white\"}}, \"shapedefaults\": {\"line\": {\"color\": \"#2a3f5f\"}}, \"ternary\": {\"aaxis\": {\"gridcolor\": \"white\", \"linecolor\": \"white\", \"ticks\": \"\"}, \"baxis\": {\"gridcolor\": \"white\", \"linecolor\": \"white\", \"ticks\": \"\"}, \"bgcolor\": \"#E5ECF6\", \"caxis\": {\"gridcolor\": \"white\", \"linecolor\": \"white\", \"ticks\": \"\"}}, \"title\": {\"x\": 0.05}, \"xaxis\": {\"automargin\": true, \"gridcolor\": \"white\", \"linecolor\": \"white\", \"ticks\": \"\", \"title\": {\"standoff\": 15}, \"zerolinecolor\": \"white\", \"zerolinewidth\": 2}, \"yaxis\": {\"automargin\": true, \"gridcolor\": \"white\", \"linecolor\": \"white\", \"ticks\": \"\", \"title\": {\"standoff\": 15}, \"zerolinecolor\": \"white\", \"zerolinewidth\": 2}}}, \"title\": {\"text\": \"Positions of Electrodes\"}},\n",
       "                        {\"responsive\": true}\n",
       "                    ).then(function(){\n",
       "                            \n",
       "var gd = document.getElementById('69ffc7fe-5054-4b00-9997-6d368e1008fc');\n",
       "var x = new MutationObserver(function (mutations, observer) {{\n",
       "        var display = window.getComputedStyle(gd).display;\n",
       "        if (!display || display === 'none') {{\n",
       "            console.log([gd, 'removed!']);\n",
       "            Plotly.purge(gd);\n",
       "            observer.disconnect();\n",
       "        }}\n",
       "}});\n",
       "\n",
       "// Listen for the removal of the full notebook cells\n",
       "var notebookContainer = gd.closest('#notebook-container');\n",
       "if (notebookContainer) {{\n",
       "    x.observe(notebookContainer, {childList: true});\n",
       "}}\n",
       "\n",
       "// Listen for the clearing of the current output cell\n",
       "var outputEl = gd.closest('.output');\n",
       "if (outputEl) {{\n",
       "    x.observe(outputEl, {childList: true});\n",
       "}}\n",
       "\n",
       "                        })\n",
       "                };\n",
       "                });\n",
       "            </script>\n",
       "        </div>"
      ]
     },
     "metadata": {},
     "output_type": "display_data"
    }
   ],
   "source": [
    "fig = go.Figure()\n",
    "fig.add_trace(go.Scatter3d(x=np.hstack(eeg_data['EEG'][0][0][21][0]['X'])[0], \n",
    "                           y=np.hstack(eeg_data['EEG'][0][0][21][0]['Y'])[0], \n",
    "                           z=np.hstack(eeg_data['EEG'][0][0][21][0]['Z'])[0], \n",
    "                           text=labels,\n",
    "                           mode='markers'))\n",
    "fig.update_layout(title='Positions of Electrodes')\n",
    "fig.show()"
   ]
  },
  {
   "cell_type": "markdown",
   "metadata": {},
   "source": [
    "### Event-Related Potential (ERP)"
   ]
  },
  {
   "cell_type": "code",
   "execution_count": 226,
   "metadata": {},
   "outputs": [],
   "source": [
    "# average of the signal among all trials\n",
    "erp = eeg_data['EEG']['data'][0][0].mean(axis=2)\n",
    "times = eeg_data['EEG']['times'][0][0][0]"
   ]
  },
  {
   "cell_type": "code",
   "execution_count": 227,
   "metadata": {},
   "outputs": [],
   "source": [
    "def plot_erp(erp_signal, time_vector, channel, time_range=None):\n",
    "    \n",
    "    assert channel in labels, \"Check your channel name\"\n",
    "    \n",
    "    idx = labels.index(channel)\n",
    "    \n",
    "    plt.figure(figsize=(10,4))\n",
    "    plt.plot(time_vector, erp_signal[idx,:])\n",
    "    if time_range:\n",
    "        plt.xlim(time_range)\n",
    "    plt.title(f\"Event-Related Potential for the channel {channel}\")\n",
    "    plt.xlabel('Time (ms)')\n",
    "    plt.ylabel('Signal (microV)')\n",
    "    plt.plot()"
   ]
  },
  {
   "cell_type": "code",
   "execution_count": 228,
   "metadata": {},
   "outputs": [
    {
     "data": {
      "image/png": "[encoded data removed]",
      "text/plain": [
       "<Figure size 720x288 with 1 Axes>"
      ]
     },
     "metadata": {
      "needs_background": "light"
     },
     "output_type": "display_data"
    }
   ],
   "source": [
    "plot_erp(erp_signal=erp, \n",
    "         time_vector=times, \n",
    "         channel='FCz')"
   ]
  },
  {
   "cell_type": "code",
   "execution_count": 229,
   "metadata": {},
   "outputs": [
    {
     "data": {
      "image/png": "[encoded data removed]",
      "text/plain": [
       "<Figure size 720x288 with 1 Axes>"
      ]
     },
     "metadata": {
      "needs_background": "light"
     },
     "output_type": "display_data"
    }
   ],
   "source": [
    "plot_erp(erp_signal=erp, \n",
    "         time_vector=times, \n",
    "         channel='O1',\n",
    "         time_range=[-500, 1000])"
   ]
  },
  {
   "cell_type": "markdown",
   "metadata": {},
   "source": [
    "### Topographical Maps"
   ]
  },
  {
   "cell_type": "code",
   "execution_count": 230,
   "metadata": {},
   "outputs": [],
   "source": [
    "biosemi_montage = mne.channels.make_standard_montage('biosemi64')\n",
    "info = mne.create_info(ch_names=labels, \n",
    "                       sfreq=srate,\n",
    "                       ch_types='eeg')"
   ]
  },
  {
   "cell_type": "code",
   "execution_count": 231,
   "metadata": {},
   "outputs": [
    {
     "data": {
      "text/plain": [
       "<Evoked | '' (average, N=1), [0, 2.4961] sec, 64 ch, ~500 kB>"
      ]
     },
     "execution_count": 231,
     "metadata": {},
     "output_type": "execute_result"
    }
   ],
   "source": [
    "evoked = mne.EvokedArray(erp, info)\n",
    "evoked.set_montage(biosemi_montage)"
   ]
  },
  {
   "cell_type": "code",
   "execution_count": 232,
   "metadata": {},
   "outputs": [],
   "source": [
    "check_ch = ['Oz', 'Fpz', 'T7', 'T8']\n",
    "ch_idx = [evoked.ch_names.index(ch) for ch in check_ch]\n",
    "pos = np.stack([evoked.info['chs'][idx]['loc'][:3] for idx in ch_idx])\n",
    "\n",
    "x = pos[0, 0]\n",
    "y = pos[-1, 1]\n",
    "z = pos[:, -1].mean()\n",
    "radius = np.abs(pos[[2, 3], 0]).mean()"
   ]
  },
  {
   "cell_type": "code",
   "execution_count": 251,
   "metadata": {},
   "outputs": [],
   "source": [
    "def plot_topomap(time, style):\n",
    "    \n",
    "    sphere = None\n",
    "    if style == 1:\n",
    "        sphere = (x, y, z, radius)\n",
    "    \n",
    "    time2plot = time # in ms\n",
    "    idx = np.argmin(np.abs(times - time2plot)) # time to index\n",
    "    \n",
    "    plt.figure(figsize=(8,8))\n",
    "    plt.title(f'ERP from {time} (ms)')\n",
    "    mne.viz.plot_topomap(data=evoked.data[:,idx], \n",
    "                         pos=evoked.info,\n",
    "                         names=labels,\n",
    "                         show_names=True,\n",
    "                         sphere=sphere)\n",
    "       \n",
    "    plt.show()"
   ]
  },
  {
   "cell_type": "code",
   "execution_count": 252,
   "metadata": {},
   "outputs": [
    {
     "data": {
      "application/vnd.jupyter.widget-view+json": {
       "model_id": "74757f0044f94a3cbb3e49e8b96c36b1",
       "version_major": 2,
       "version_minor": 0
      },
      "text/plain": [
       "interactive(children=(IntSlider(value=248, description='time', max=1496, min=-1000), IntSlider(value=0, descri…"
      ]
     },
     "metadata": {},
     "output_type": "display_data"
    }
   ],
   "source": [
    "# style 0 means MNE style, 1 - EEGLAB style\n",
    "interactive_plot = interactive(\n",
    "    plot_topomap, \n",
    "    time=(int(times.min()), int(times.max()), 1),\n",
    "    style=(0,1,1))\n",
    "output = interactive_plot.children[-1]\n",
    "interactive_plot"
   ]
  }
 ],
 "metadata": {
  "kernelspec": {
   "display_name": "Python 3",
   "language": "python",
   "name": "python3"
  },
  "language_info": {
   "codemirror_mode": {
    "name": "ipython",
    "version": 3
   },
   "file_extension": ".py",
   "mimetype": "text/x-python",
   "name": "python",
   "nbconvert_exporter": "python",
   "pygments_lexer": "ipython3",
   "version": "3.7.6"
  }
 },
 "nbformat": 4,
 "nbformat_minor": 4
}
